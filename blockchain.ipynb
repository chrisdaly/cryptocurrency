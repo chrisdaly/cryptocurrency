{
 "cells": [
  {
   "cell_type": "code",
   "execution_count": 41,
   "metadata": {},
   "outputs": [],
   "source": [
    "import hashlib\n",
    "import json"
   ]
  },
  {
   "cell_type": "code",
   "execution_count": 49,
   "metadata": {},
   "outputs": [],
   "source": [
    "class Transaction:\n",
    "    def __init__(self, sender: str, recepient: str, amount: int):\n",
    "        self.sender = sender\n",
    "        self.recepient = recepient\n",
    "        self.amount = amount\n",
    "        \n",
    "    def create(self):\n",
    "        return {\"sender\": self.sender, \"recepient\": self.recepient, \"amount\": self.amount}"
   ]
  },
  {
   "cell_type": "code",
   "execution_count": 53,
   "metadata": {},
   "outputs": [],
   "source": [
    "class Block:\n",
    "    def __init__(self, index: int, previous_hash: str, transactions: list, difficulty: int = 3, nonce: int = 0):\n",
    "        self.index = index\n",
    "        self.previous_hash = previous_hash\n",
    "        self.nonce = nonce\n",
    "        self.transactions = transactions\n",
    "        self.difficulty = difficulty\n",
    "        self.must_start_with = \"0\" * self.difficulty\n",
    "    \n",
    "    @property\n",
    "    def hash(self) -> str:\n",
    "        inputs = [self.index, self.previous_hash, self.nonce, self.transactions]\n",
    "        text = \"\".join([str(x) for x in inputs])\n",
    "        hash_ = hashlib.sha256(text.encode()).hexdigest()\n",
    "        return hash_\n",
    "\n",
    "    def mine(self):\n",
    "        while True:\n",
    "            if self.is_valid_block():\n",
    "                break\n",
    "            else:\n",
    "                self.nonce += 1\n",
    "                \n",
    "    def is_valid_block(self):\n",
    "        return self.hash.startswith(self.must_start_with)\n",
    " \n",
    "    def __str__(self):\n",
    "        return f\"index: {self.index}\\nprevious_hash: {self.previous_hash}\\nnonce: {self.nonce}\\ntransactions:{[json.dumps(x.__dict__) for x in transactions]}\\nhash: {self.hash} \\n\""
   ]
  },
  {
   "cell_type": "code",
   "execution_count": 54,
   "metadata": {},
   "outputs": [],
   "source": [
    "class BlockChain:\n",
    "    def __init__(self, index=0, previous_hash=0, difficulty: int = 3):\n",
    "        self.difficulty = difficulty\n",
    "        self.must_start_with = \"0\" * self.difficulty\n",
    "        self.chain = self.create_chain()\n",
    "        \n",
    "    def create_chain(self):\n",
    "        transaction = Transaction(\"satoshi\", \"finney\", 1)\n",
    "        transaction.create()\n",
    "        transactions = [transaction]\n",
    "        genesis_block = Block(index=0, previous_hash=\"00000000000000\", transactions=transactions, difficulty=4, nonce=0)\n",
    "        chain = [genesis_block]\n",
    "        return chain\n",
    "\n",
    "    def add(self, block):\n",
    "        self.chain.append(block)\n",
    "\n",
    "    @property\n",
    "    def last_index(self):\n",
    "        return self.chain[-1].index\n",
    "\n",
    "    @property\n",
    "    def last_hash(self):\n",
    "        return self.chain[-1].hash\n",
    "\n",
    "    def is_valid_chain(self):\n",
    "        for i in range(1, len(self.chain)):\n",
    "            previous_block = self.chain[i-1]\n",
    "            current_block = self.chain[i]\n",
    "\n",
    "            previous = previous_block.hash\n",
    "            current = current_block.previous_hash\n",
    "            print(f\"current:{current} \\nprevious:{previous}\\n\")   \n",
    "\n",
    "            if previous != current or not current_block.is_valid_block():\n",
    "                return False\n",
    "\n",
    "        return True"
   ]
  },
  {
   "cell_type": "code",
   "execution_count": 55,
   "metadata": {
    "tags": []
   },
   "outputs": [],
   "source": [
    "blockchain = BlockChain()\n",
    "\n",
    "transaction = Transaction(\"chris\", \"satoshi\", 10)\n",
    "transaction.create()\n",
    "transactions = [transaction]\n",
    "\n",
    "previous_hash = blockchain.last_hash\n",
    "index = blockchain.last_index + 1\n",
    "\n",
    "block = Block(index, previous_hash, transactions, difficulty=4, nonce=0)\n",
    "block.mine()\n",
    "blockchain.add(block)"
   ]
  },
  {
   "cell_type": "code",
   "execution_count": 56,
   "metadata": {},
   "outputs": [
    {
     "output_type": "stream",
     "name": "stdout",
     "text": [
      "index: 0\nprevious_hash: 00000000000000\nnonce: 0\ntransactions:['{\"sender\": \"chris\", \"recepient\": \"satoshi\", \"amount\": 10}']\nhash: 24db0c2f9966e7d66a956fe88803801c4d4a821f68c35a83cf6d56662f2bc2f7 \n\nindex: 1\nprevious_hash: 24db0c2f9966e7d66a956fe88803801c4d4a821f68c35a83cf6d56662f2bc2f7\nnonce: 12800\ntransactions:['{\"sender\": \"chris\", \"recepient\": \"satoshi\", \"amount\": 10}']\nhash: 0000e45fa4b98e966dcc3fa3fcba9733cdce6169252febf7c389c979844f71ea \n\n"
     ]
    }
   ],
   "source": [
    "for x in blockchain.chain:\n",
    "    print(x)"
   ]
  },
  {
   "cell_type": "code",
   "execution_count": 58,
   "metadata": {},
   "outputs": [
    {
     "output_type": "stream",
     "name": "stdout",
     "text": [
      "current:24db0c2f9966e7d66a956fe88803801c4d4a821f68c35a83cf6d56662f2bc2f7 \nprevious:24db0c2f9966e7d66a956fe88803801c4d4a821f68c35a83cf6d56662f2bc2f7\n\n"
     ]
    },
    {
     "output_type": "execute_result",
     "data": {
      "text/plain": [
       "True"
      ]
     },
     "metadata": {},
     "execution_count": 58
    }
   ],
   "source": [
    "blockchain.is_valid_chain()"
   ]
  }
 ],
 "metadata": {
  "kernelspec": {
   "display_name": "Python 3.7.4 64-bit ('base': conda)",
   "language": "python",
   "name": "python37464bitbaseconda4a78d5b429eb4d9f81eb551e8c71f19d"
  },
  "language_info": {
   "codemirror_mode": {
    "name": "ipython",
    "version": 3
   },
   "file_extension": ".py",
   "mimetype": "text/x-python",
   "name": "python",
   "nbconvert_exporter": "python",
   "pygments_lexer": "ipython3",
   "version": "3.7.4-final"
  }
 },
 "nbformat": 4,
 "nbformat_minor": 2
}